{
 "cells": [
  {
   "attachments": {},
   "cell_type": "markdown",
   "metadata": {},
   "source": [
    "### SNScrape Tutorial"
   ]
  },
  {
   "cell_type": "code",
   "execution_count": 1,
   "metadata": {},
   "outputs": [],
   "source": [
    "import pandas as pd\n",
    "from tqdm.notebook import tqdm\n",
    "import snscrape.modules.twitter as sntwitter"
   ]
  },
  {
   "cell_type": "code",
   "execution_count": 2,
   "metadata": {},
   "outputs": [],
   "source": [
    "scraper = sntwitter.TwitterSearchScraper(\"#Nivea\")"
   ]
  },
  {
   "cell_type": "code",
   "execution_count": 3,
   "metadata": {},
   "outputs": [],
   "source": [
    "for tweet in scraper.get_items():\n",
    "    break"
   ]
  },
  {
   "cell_type": "code",
   "execution_count": 4,
   "metadata": {},
   "outputs": [
    {
     "data": {
      "text/plain": [
       "snscrape.modules.twitter.Tweet"
      ]
     },
     "execution_count": 4,
     "metadata": {},
     "output_type": "execute_result"
    }
   ],
   "source": [
    "type(tweet)"
   ]
  },
  {
   "cell_type": "code",
   "execution_count": 5,
   "metadata": {},
   "outputs": [
    {
     "name": "stderr",
     "output_type": "stream",
     "text": [
      "C:\\Users\\ollin\\AppData\\Local\\Temp\\ipykernel_35756\\1986883054.py:1: DeprecatedFeatureWarning: content is deprecated, use rawContent instead\n",
      "  tweet.date, tweet.id, tweet.content, tweet.user.username, tweet.likeCount, tweet.retweetCount\n"
     ]
    },
    {
     "data": {
      "text/plain": [
       "(datetime.datetime(2023, 4, 11, 10, 46, 25, tzinfo=datetime.timezone.utc),\n",
       " 1645740076679286785,\n",
       " 'Todos los días https://t.co/FHu1EpNsBU te hace la vida más fácil #loquetuelijas #nivea #compraonline #compras #descuento #Ahorro https://t.co/IFcEaTTvef',\n",
       " 'loquetuelijas',\n",
       " 1,\n",
       " 0)"
      ]
     },
     "execution_count": 5,
     "metadata": {},
     "output_type": "execute_result"
    }
   ],
   "source": [
    "tweet.date, tweet.id, tweet.content, tweet.user.username, tweet.likeCount, tweet.retweetCount"
   ]
  },
  {
   "attachments": {},
   "cell_type": "markdown",
   "metadata": {},
   "source": [
    "### Extract Tweet Data"
   ]
  },
  {
   "cell_type": "code",
   "execution_count": 6,
   "metadata": {},
   "outputs": [
    {
     "name": "stderr",
     "output_type": "stream",
     "text": [
      "C:\\Users\\ollin\\AppData\\Local\\Temp\\ipykernel_35756\\627965851.py:10: DeprecatedFeatureWarning: content is deprecated, use rawContent instead\n",
      "  tweet.content,\n"
     ]
    }
   ],
   "source": [
    "scraper = sntwitter.TwitterSearchScraper(\"#Nivea\")\n",
    "\n",
    "tweets = []\n",
    "\n",
    "\n",
    "for i,  tweet in enumerate(scraper.get_items()):\n",
    "    data = [\n",
    "        tweet.date, \n",
    "        tweet.id, \n",
    "        tweet.content, \n",
    "        tweet.user.username, \n",
    "        tweet.likeCount, \n",
    "        tweet.retweetCount\n",
    "    ]\n",
    "    tweets.append(data)\n",
    "    if i > 50:\n",
    "        break"
   ]
  },
  {
   "cell_type": "code",
   "execution_count": 7,
   "metadata": {},
   "outputs": [],
   "source": [
    "tweet_df = pd.DataFrame(\n",
    "    tweets, columns = [\"date\", \"id\", \"content\", \"username\", \"like_count\", \"retweet_count\"]\n",
    ")"
   ]
  },
  {
   "cell_type": "code",
   "execution_count": 8,
   "metadata": {},
   "outputs": [
    {
     "data": {
      "text/html": [
       "<div>\n",
       "<style scoped>\n",
       "    .dataframe tbody tr th:only-of-type {\n",
       "        vertical-align: middle;\n",
       "    }\n",
       "\n",
       "    .dataframe tbody tr th {\n",
       "        vertical-align: top;\n",
       "    }\n",
       "\n",
       "    .dataframe thead th {\n",
       "        text-align: right;\n",
       "    }\n",
       "</style>\n",
       "<table border=\"1\" class=\"dataframe\">\n",
       "  <thead>\n",
       "    <tr style=\"text-align: right;\">\n",
       "      <th></th>\n",
       "      <th>date</th>\n",
       "      <th>id</th>\n",
       "      <th>content</th>\n",
       "      <th>username</th>\n",
       "      <th>like_count</th>\n",
       "      <th>retweet_count</th>\n",
       "    </tr>\n",
       "  </thead>\n",
       "  <tbody>\n",
       "    <tr>\n",
       "      <th>0</th>\n",
       "      <td>2023-04-11 10:46:25+00:00</td>\n",
       "      <td>1645740076679286785</td>\n",
       "      <td>Todos los días https://t.co/FHu1EpNsBU te hace...</td>\n",
       "      <td>loquetuelijas</td>\n",
       "      <td>1</td>\n",
       "      <td>0</td>\n",
       "    </tr>\n",
       "    <tr>\n",
       "      <th>1</th>\n",
       "      <td>2023-04-11 07:31:57+00:00</td>\n",
       "      <td>1645691137657647104</td>\n",
       "      <td>Wipes and Hydra Effect Mask to cleanse, nouris...</td>\n",
       "      <td>JumiaGhana</td>\n",
       "      <td>2</td>\n",
       "      <td>0</td>\n",
       "    </tr>\n",
       "    <tr>\n",
       "      <th>2</th>\n",
       "      <td>2023-04-11 07:31:18+00:00</td>\n",
       "      <td>1645690976189521920</td>\n",
       "      <td>Free NIVEA Triple Protect Sunscreen - Join the...</td>\n",
       "      <td>wfreebies</td>\n",
       "      <td>0</td>\n",
       "      <td>0</td>\n",
       "    </tr>\n",
       "    <tr>\n",
       "      <th>3</th>\n",
       "      <td>2023-04-11 07:09:36+00:00</td>\n",
       "      <td>1645685512273887232</td>\n",
       "      <td>🧼 #NIVEA Q10 POWER Crema Giorno Anti-Rughe Ras...</td>\n",
       "      <td>levenditop</td>\n",
       "      <td>0</td>\n",
       "      <td>0</td>\n",
       "    </tr>\n",
       "    <tr>\n",
       "      <th>4</th>\n",
       "      <td>2023-04-11 06:49:33+00:00</td>\n",
       "      <td>1645680467759210499</td>\n",
       "      <td>Here is the plug… #nivea #checkers https://t.c...</td>\n",
       "      <td>khanyo_hamilton</td>\n",
       "      <td>0</td>\n",
       "      <td>0</td>\n",
       "    </tr>\n",
       "  </tbody>\n",
       "</table>\n",
       "</div>"
      ],
      "text/plain": [
       "                       date                   id  \\\n",
       "0 2023-04-11 10:46:25+00:00  1645740076679286785   \n",
       "1 2023-04-11 07:31:57+00:00  1645691137657647104   \n",
       "2 2023-04-11 07:31:18+00:00  1645690976189521920   \n",
       "3 2023-04-11 07:09:36+00:00  1645685512273887232   \n",
       "4 2023-04-11 06:49:33+00:00  1645680467759210499   \n",
       "\n",
       "                                             content         username  \\\n",
       "0  Todos los días https://t.co/FHu1EpNsBU te hace...    loquetuelijas   \n",
       "1  Wipes and Hydra Effect Mask to cleanse, nouris...       JumiaGhana   \n",
       "2  Free NIVEA Triple Protect Sunscreen - Join the...        wfreebies   \n",
       "3  🧼 #NIVEA Q10 POWER Crema Giorno Anti-Rughe Ras...       levenditop   \n",
       "4  Here is the plug… #nivea #checkers https://t.c...  khanyo_hamilton   \n",
       "\n",
       "   like_count  retweet_count  \n",
       "0           1              0  \n",
       "1           2              0  \n",
       "2           0              0  \n",
       "3           0              0  \n",
       "4           0              0  "
      ]
     },
     "execution_count": 8,
     "metadata": {},
     "output_type": "execute_result"
    }
   ],
   "source": [
    "tweet_df.head(5)"
   ]
  },
  {
   "cell_type": "code",
   "execution_count": 9,
   "metadata": {},
   "outputs": [],
   "source": [
    "tweet_df.to_csv('nivea_tweets')"
   ]
  },
  {
   "attachments": {},
   "cell_type": "markdown",
   "metadata": {},
   "source": [
    "### Adding a progress bar"
   ]
  },
  {
   "cell_type": "code",
   "execution_count": 10,
   "metadata": {},
   "outputs": [
    {
     "data": {
      "application/vnd.jupyter.widget-view+json": {
       "model_id": "d78d2d4bf5c244869761093ea745b0ef",
       "version_major": 2,
       "version_minor": 0
      },
      "text/plain": [
       "  0%|          | 0/1000 [00:00<?, ?it/s]"
      ]
     },
     "metadata": {},
     "output_type": "display_data"
    },
    {
     "name": "stderr",
     "output_type": "stream",
     "text": [
      "C:\\Users\\ollin\\AppData\\Local\\Temp\\ipykernel_35756\\1171038083.py:10: DeprecatedFeatureWarning: content is deprecated, use rawContent instead\n",
      "  tweet.content,\n"
     ]
    }
   ],
   "source": [
    "scraper = sntwitter.TwitterSearchScraper(\"#Nivea\")\n",
    "\n",
    "tweets = []\n",
    "n_tweets = 1_000\n",
    "\n",
    "for i,  tweet in tqdm(enumerate(scraper.get_items()), total = n_tweets):\n",
    "    data = [\n",
    "        tweet.date, \n",
    "        tweet.id, \n",
    "        tweet.content, \n",
    "        tweet.user.username, \n",
    "        tweet.likeCount, \n",
    "        tweet.retweetCount\n",
    "    ]\n",
    "    tweets.append(data)\n",
    "    if i > n_tweets:\n",
    "        break\n",
    "\n",
    "tweet_df = pd.DataFrame(\n",
    "    tweets, columns = [\"date\", \"id\", \"content\", \"username\", \"like_count\", \"retweet_count\"]\n",
    ")\n",
    "\n",
    "tweet_df.to_csv('nivea_tweets')"
   ]
  },
  {
   "attachments": {},
   "cell_type": "markdown",
   "metadata": {},
   "source": [
    "### Add Filters to Query"
   ]
  },
  {
   "cell_type": "code",
   "execution_count": 28,
   "metadata": {},
   "outputs": [],
   "source": [
    "text = input('Enter query text to be matched (or leave it blank by pressing enter)') \n",
    "\n",
    "likes = input('Enter minimum number of likes to be matched (or leave it blank by pressing enter): ')\n",
    "\n",
    "since = input('Enter startdate in this format yyyy-mm-dd (or leave it blank by pressing enter): ') \n",
    "\n",
    "until = input('Enter enddate in this format yyyy-mm-dd (or leave it blank by pressing enter): ') \n",
    "\n",
    "count = int(input('Enter max number of tweets or enter -1 to retrieve all possible tweets: ')) \n",
    "\n",
    "retweet = input('Exclude Retweets? (y/n): ') \n",
    "\n",
    "replies = input('Exclude Replies? (y/n): ')"
   ]
  },
  {
   "cell_type": "code",
   "execution_count": 29,
   "metadata": {},
   "outputs": [],
   "source": [
    "def search(text, likes, since, until, retweet, replies): \n",
    "\n",
    "    global filename \n",
    "\n",
    "    q = text\n",
    "\n",
    "    if likes=='': \n",
    "\n",
    "        likes = 0 \n",
    "\n",
    "    q += f\" min_faves:\"+likes\n",
    "\n",
    "    if until=='': \n",
    "\n",
    "        until = datetime.datetime.strftime(datetime.date.today(), '%Y-%m-%d') \n",
    "\n",
    "    q += f\" until:{until}\" \n",
    "\n",
    "    if since=='': \n",
    "\n",
    "        since = datetime.datetime.strftime(datetime.datetime.strptime(until, '%Y-%m-%d') -  \n",
    "\n",
    "                                        datetime.timedelta(days=7), '%Y-%m-%d') \n",
    "\n",
    "    q += f\" since:{since}\" \n",
    "\n",
    "    if retweet == 'y': \n",
    "\n",
    "        q += f\" exclude:retweets\" \n",
    "\n",
    "    if replies == 'y': \n",
    "\n",
    "        q += f\" exclude:replies\" \n",
    "\n",
    "    if text!='': \n",
    "\n",
    "        filename = f\"{since}_{until}_{username}_{text}.csv\" \n",
    "\n",
    "    else: \n",
    "\n",
    "        filename = f\"{since}_{until}_{text}.csv\" \n",
    "\n",
    "    print(filename) \n",
    "\n",
    "    return q"
   ]
  },
  {
   "cell_type": "code",
   "execution_count": 32,
   "metadata": {},
   "outputs": [
    {
     "name": "stdout",
     "output_type": "stream",
     "text": [
      "2018-01-01_2023-04-11__#gamestop.csv\n"
     ]
    },
    {
     "data": {
      "application/vnd.jupyter.widget-view+json": {
       "model_id": "29660f1841ca4acc80384978c4639daf",
       "version_major": 2,
       "version_minor": 0
      },
      "text/plain": [
       "  0%|          | 0/1000 [00:00<?, ?it/s]"
      ]
     },
     "metadata": {},
     "output_type": "display_data"
    },
    {
     "name": "stderr",
     "output_type": "stream",
     "text": [
      "C:\\Users\\ollin\\AppData\\Local\\Temp\\ipykernel_35756\\752977749.py:11: DeprecatedFeatureWarning: content is deprecated, use rawContent instead\n",
      "  tweet.content,\n"
     ]
    },
    {
     "data": {
      "text/html": [
       "<div>\n",
       "<style scoped>\n",
       "    .dataframe tbody tr th:only-of-type {\n",
       "        vertical-align: middle;\n",
       "    }\n",
       "\n",
       "    .dataframe tbody tr th {\n",
       "        vertical-align: top;\n",
       "    }\n",
       "\n",
       "    .dataframe thead th {\n",
       "        text-align: right;\n",
       "    }\n",
       "</style>\n",
       "<table border=\"1\" class=\"dataframe\">\n",
       "  <thead>\n",
       "    <tr style=\"text-align: right;\">\n",
       "      <th></th>\n",
       "      <th>date</th>\n",
       "      <th>id</th>\n",
       "      <th>content</th>\n",
       "      <th>username</th>\n",
       "      <th>like_count</th>\n",
       "      <th>retweet_count</th>\n",
       "    </tr>\n",
       "  </thead>\n",
       "  <tbody>\n",
       "    <tr>\n",
       "      <th>0</th>\n",
       "      <td>2023-04-10 19:05:29+00:00</td>\n",
       "      <td>1645503285569126400</td>\n",
       "      <td>Class Action Lawsuit against @RobinhoodApp for...</td>\n",
       "      <td>BossBlunts1</td>\n",
       "      <td>768</td>\n",
       "      <td>242</td>\n",
       "    </tr>\n",
       "    <tr>\n",
       "      <th>1</th>\n",
       "      <td>2023-04-10 18:35:07+00:00</td>\n",
       "      <td>1645495643757060107</td>\n",
       "      <td>A lot of news dropped over the weekend at Star...</td>\n",
       "      <td>yak_face</td>\n",
       "      <td>160</td>\n",
       "      <td>15</td>\n",
       "    </tr>\n",
       "    <tr>\n",
       "      <th>2</th>\n",
       "      <td>2023-04-10 18:14:19+00:00</td>\n",
       "      <td>1645490408422612995</td>\n",
       "      <td>- @InvestorTurf trying to get @shortdestroyer ...</td>\n",
       "      <td>BadassTrader69</td>\n",
       "      <td>214</td>\n",
       "      <td>18</td>\n",
       "    </tr>\n",
       "    <tr>\n",
       "      <th>3</th>\n",
       "      <td>2023-04-10 10:28:47+00:00</td>\n",
       "      <td>1645373252913569792</td>\n",
       "      <td>winning the Shroom Groove tournament 🕹❤\\n\\nI l...</td>\n",
       "      <td>not_me_fatima</td>\n",
       "      <td>47</td>\n",
       "      <td>3</td>\n",
       "    </tr>\n",
       "    <tr>\n",
       "      <th>4</th>\n",
       "      <td>2023-04-10 06:29:55+00:00</td>\n",
       "      <td>1645313139788095488</td>\n",
       "      <td>WEN @ryancohen TWEET? 💜 #GME #GameStop https:/...</td>\n",
       "      <td>ElSamuraiGME</td>\n",
       "      <td>69</td>\n",
       "      <td>2</td>\n",
       "    </tr>\n",
       "  </tbody>\n",
       "</table>\n",
       "</div>"
      ],
      "text/plain": [
       "                       date                   id  \\\n",
       "0 2023-04-10 19:05:29+00:00  1645503285569126400   \n",
       "1 2023-04-10 18:35:07+00:00  1645495643757060107   \n",
       "2 2023-04-10 18:14:19+00:00  1645490408422612995   \n",
       "3 2023-04-10 10:28:47+00:00  1645373252913569792   \n",
       "4 2023-04-10 06:29:55+00:00  1645313139788095488   \n",
       "\n",
       "                                             content        username  \\\n",
       "0  Class Action Lawsuit against @RobinhoodApp for...     BossBlunts1   \n",
       "1  A lot of news dropped over the weekend at Star...        yak_face   \n",
       "2  - @InvestorTurf trying to get @shortdestroyer ...  BadassTrader69   \n",
       "3  winning the Shroom Groove tournament 🕹❤\\n\\nI l...   not_me_fatima   \n",
       "4  WEN @ryancohen TWEET? 💜 #GME #GameStop https:/...    ElSamuraiGME   \n",
       "\n",
       "   like_count  retweet_count  \n",
       "0         768            242  \n",
       "1         160             15  \n",
       "2         214             18  \n",
       "3          47              3  \n",
       "4          69              2  "
      ]
     },
     "execution_count": 32,
     "metadata": {},
     "output_type": "execute_result"
    }
   ],
   "source": [
    "q = search(text,likes,since,until,retweet,replies) \n",
    "\n",
    "scraper = sntwitter.TwitterSearchScraper(q)\n",
    "\n",
    "tweets = []\n",
    "\n",
    "for i,  tweet in tqdm(enumerate(scraper.get_items()), total = count):\n",
    "    data = [\n",
    "        tweet.date, \n",
    "        tweet.id, \n",
    "        tweet.content, \n",
    "        tweet.user.username, \n",
    "        tweet.likeCount, \n",
    "        tweet.retweetCount\n",
    "    ]\n",
    "    tweets.append(data)\n",
    "    if i > count: #number of tweets you want to scrape:\n",
    "        break\n",
    "\n",
    "tweet_df = pd.DataFrame(\n",
    "    tweets, columns = [\"date\", \"id\", \"content\", \"username\", \"like_count\", \"retweet_count\"]\n",
    ")\n",
    "\n",
    "#tweet_df.to_csv(f\"{filename}\",index=False)\n",
    "tweet_df.head(5)"
   ]
  }
 ],
 "metadata": {
  "kernelspec": {
   "display_name": "base",
   "language": "python",
   "name": "python3"
  },
  "language_info": {
   "codemirror_mode": {
    "name": "ipython",
    "version": 3
   },
   "file_extension": ".py",
   "mimetype": "text/x-python",
   "name": "python",
   "nbconvert_exporter": "python",
   "pygments_lexer": "ipython3",
   "version": "3.9.7"
  },
  "orig_nbformat": 4
 },
 "nbformat": 4,
 "nbformat_minor": 2
}
