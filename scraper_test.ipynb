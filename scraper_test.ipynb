{
 "cells": [
  {
   "attachments": {},
   "cell_type": "markdown",
   "metadata": {},
   "source": [
    "### SNScrape Tutorial"
   ]
  },
  {
   "cell_type": "code",
   "execution_count": 7,
   "metadata": {},
   "outputs": [],
   "source": [
    "import pandas as pd\n",
    "from tqdm.notebook import tqdm\n",
    "import snscrape.modules.twitter as sntwitter"
   ]
  },
  {
   "cell_type": "code",
   "execution_count": 8,
   "metadata": {},
   "outputs": [],
   "source": [
    "scraper = sntwitter.TwitterSearchScraper(\"#Nivea\")"
   ]
  },
  {
   "cell_type": "code",
   "execution_count": 9,
   "metadata": {},
   "outputs": [],
   "source": [
    "for tweet in scraper.get_items():\n",
    "    break"
   ]
  },
  {
   "cell_type": "code",
   "execution_count": 10,
   "metadata": {},
   "outputs": [
    {
     "data": {
      "text/plain": [
       "snscrape.modules.twitter.Tweet"
      ]
     },
     "execution_count": 10,
     "metadata": {},
     "output_type": "execute_result"
    }
   ],
   "source": [
    "type(tweet)"
   ]
  },
  {
   "cell_type": "code",
   "execution_count": 11,
   "metadata": {},
   "outputs": [
    {
     "name": "stderr",
     "output_type": "stream",
     "text": [
      "C:\\Users\\ollin\\AppData\\Local\\Temp\\ipykernel_37644\\1986883054.py:1: DeprecatedFeatureWarning: content is deprecated, use rawContent instead\n",
      "  tweet.date, tweet.id, tweet.content, tweet.user.username, tweet.likeCount, tweet.retweetCount\n"
     ]
    },
    {
     "data": {
      "text/plain": [
       "(datetime.datetime(2023, 4, 12, 7, 22, 28, tzinfo=datetime.timezone.utc),\n",
       " 1646051138972835843,\n",
       " 'Nivea Body Lotion For Very Dry Skin, Nourishing Body Milk With 2X Almond Oil For 48H Moisturization, For Men &amp; Women, 400ml \\nM.R.P.: ₹399\\nDeal Price: ₹298 \\nYou Save: ₹101 (25%)\\n#nivea #bodylotion ##lotion #nivealotion #deals #bestdeals \\nhttps://t.co/kyYw0ZRhVC',\n",
       " 'BestdealsDeals',\n",
       " 0,\n",
       " 1)"
      ]
     },
     "execution_count": 11,
     "metadata": {},
     "output_type": "execute_result"
    }
   ],
   "source": [
    "tweet.date, tweet.id, tweet.content, tweet.user.username, tweet.likeCount, tweet.retweetCount"
   ]
  },
  {
   "attachments": {},
   "cell_type": "markdown",
   "metadata": {},
   "source": [
    "### Extract Tweet Data"
   ]
  },
  {
   "cell_type": "code",
   "execution_count": 12,
   "metadata": {},
   "outputs": [
    {
     "name": "stderr",
     "output_type": "stream",
     "text": [
      "C:\\Users\\ollin\\AppData\\Local\\Temp\\ipykernel_37644\\627965851.py:10: DeprecatedFeatureWarning: content is deprecated, use rawContent instead\n",
      "  tweet.content,\n"
     ]
    }
   ],
   "source": [
    "scraper = sntwitter.TwitterSearchScraper(\"#Nivea\")\n",
    "\n",
    "tweets = []\n",
    "\n",
    "\n",
    "for i,  tweet in enumerate(scraper.get_items()):\n",
    "    data = [\n",
    "        tweet.date, \n",
    "        tweet.id, \n",
    "        tweet.content, \n",
    "        tweet.user.username, \n",
    "        tweet.likeCount, \n",
    "        tweet.retweetCount\n",
    "    ]\n",
    "    tweets.append(data)\n",
    "    if i > 50:\n",
    "        break"
   ]
  },
  {
   "cell_type": "code",
   "execution_count": 13,
   "metadata": {},
   "outputs": [],
   "source": [
    "tweet_df = pd.DataFrame(\n",
    "    tweets, columns = [\"date\", \"id\", \"content\", \"username\", \"like_count\", \"retweet_count\"]\n",
    ")"
   ]
  },
  {
   "cell_type": "code",
   "execution_count": 14,
   "metadata": {},
   "outputs": [
    {
     "data": {
      "text/html": [
       "<div>\n",
       "<style scoped>\n",
       "    .dataframe tbody tr th:only-of-type {\n",
       "        vertical-align: middle;\n",
       "    }\n",
       "\n",
       "    .dataframe tbody tr th {\n",
       "        vertical-align: top;\n",
       "    }\n",
       "\n",
       "    .dataframe thead th {\n",
       "        text-align: right;\n",
       "    }\n",
       "</style>\n",
       "<table border=\"1\" class=\"dataframe\">\n",
       "  <thead>\n",
       "    <tr style=\"text-align: right;\">\n",
       "      <th></th>\n",
       "      <th>date</th>\n",
       "      <th>id</th>\n",
       "      <th>content</th>\n",
       "      <th>username</th>\n",
       "      <th>like_count</th>\n",
       "      <th>retweet_count</th>\n",
       "    </tr>\n",
       "  </thead>\n",
       "  <tbody>\n",
       "    <tr>\n",
       "      <th>0</th>\n",
       "      <td>2023-04-12 07:22:28+00:00</td>\n",
       "      <td>1646051138972835843</td>\n",
       "      <td>Nivea Body Lotion For Very Dry Skin, Nourishin...</td>\n",
       "      <td>BestdealsDeals</td>\n",
       "      <td>0</td>\n",
       "      <td>1</td>\n",
       "    </tr>\n",
       "    <tr>\n",
       "      <th>1</th>\n",
       "      <td>2023-04-12 06:32:04+00:00</td>\n",
       "      <td>1646038454474788864</td>\n",
       "      <td>BT21 X NIVEA LIP BALM\\n\\nOrder at https://t.co...</td>\n",
       "      <td>dannyoppakpop</td>\n",
       "      <td>0</td>\n",
       "      <td>0</td>\n",
       "    </tr>\n",
       "    <tr>\n",
       "      <th>2</th>\n",
       "      <td>2023-04-12 05:40:47+00:00</td>\n",
       "      <td>1646025548206841857</td>\n",
       "      <td>I think Evelyn &amp;amp; Tamar like Nivea, but the...</td>\n",
       "      <td>rettaschild123</td>\n",
       "      <td>0</td>\n",
       "      <td>0</td>\n",
       "    </tr>\n",
       "    <tr>\n",
       "      <th>3</th>\n",
       "      <td>2023-04-12 05:37:37+00:00</td>\n",
       "      <td>1646024752883023874</td>\n",
       "      <td>The problem with Travis is that he is looking ...</td>\n",
       "      <td>rettaschild123</td>\n",
       "      <td>0</td>\n",
       "      <td>0</td>\n",
       "    </tr>\n",
       "    <tr>\n",
       "      <th>4</th>\n",
       "      <td>2023-04-12 05:31:00+00:00</td>\n",
       "      <td>1646023089724051457</td>\n",
       "      <td>Look Terek, Tamar did you a favor putting you ...</td>\n",
       "      <td>rettaschild123</td>\n",
       "      <td>0</td>\n",
       "      <td>0</td>\n",
       "    </tr>\n",
       "  </tbody>\n",
       "</table>\n",
       "</div>"
      ],
      "text/plain": [
       "                       date                   id  \\\n",
       "0 2023-04-12 07:22:28+00:00  1646051138972835843   \n",
       "1 2023-04-12 06:32:04+00:00  1646038454474788864   \n",
       "2 2023-04-12 05:40:47+00:00  1646025548206841857   \n",
       "3 2023-04-12 05:37:37+00:00  1646024752883023874   \n",
       "4 2023-04-12 05:31:00+00:00  1646023089724051457   \n",
       "\n",
       "                                             content        username  \\\n",
       "0  Nivea Body Lotion For Very Dry Skin, Nourishin...  BestdealsDeals   \n",
       "1  BT21 X NIVEA LIP BALM\\n\\nOrder at https://t.co...   dannyoppakpop   \n",
       "2  I think Evelyn &amp; Tamar like Nivea, but the...  rettaschild123   \n",
       "3  The problem with Travis is that he is looking ...  rettaschild123   \n",
       "4  Look Terek, Tamar did you a favor putting you ...  rettaschild123   \n",
       "\n",
       "   like_count  retweet_count  \n",
       "0           0              1  \n",
       "1           0              0  \n",
       "2           0              0  \n",
       "3           0              0  \n",
       "4           0              0  "
      ]
     },
     "execution_count": 14,
     "metadata": {},
     "output_type": "execute_result"
    }
   ],
   "source": [
    "tweet_df.head(5)"
   ]
  },
  {
   "cell_type": "code",
   "execution_count": 15,
   "metadata": {},
   "outputs": [],
   "source": [
    "tweet_df.to_csv('nivea_tweets')"
   ]
  },
  {
   "attachments": {},
   "cell_type": "markdown",
   "metadata": {},
   "source": [
    "### Adding a progress bar"
   ]
  },
  {
   "cell_type": "code",
   "execution_count": 16,
   "metadata": {},
   "outputs": [
    {
     "data": {
      "application/vnd.jupyter.widget-view+json": {
       "model_id": "01dd2a2cd16f46629d17e1caed2f3858",
       "version_major": 2,
       "version_minor": 0
      },
      "text/plain": [
       "  0%|          | 0/1000 [00:00<?, ?it/s]"
      ]
     },
     "metadata": {},
     "output_type": "display_data"
    },
    {
     "name": "stderr",
     "output_type": "stream",
     "text": [
      "C:\\Users\\ollin\\AppData\\Local\\Temp\\ipykernel_37644\\3399572206.py:10: DeprecatedFeatureWarning: content is deprecated, use rawContent instead\n",
      "  tweet.content,\n"
     ]
    }
   ],
   "source": [
    "scraper = sntwitter.TwitterSearchScraper(\"#Nivea\")\n",
    "\n",
    "tweets = []\n",
    "n_tweets = 1_000\n",
    "\n",
    "for i,  tweet in tqdm(enumerate(scraper.get_items()), total = n_tweets):\n",
    "    data = [\n",
    "        tweet.date, \n",
    "        tweet.id, \n",
    "        tweet.content, \n",
    "        tweet.user.username, \n",
    "        tweet.likeCount, \n",
    "        tweet.retweetCount\n",
    "    ]\n",
    "    tweets.append(data)\n",
    "    if i > n_tweets:\n",
    "        break\n",
    "\n",
    "tweet_df = pd.DataFrame(\n",
    "    tweets, columns = [\"date\", \"id\", \"content\", \"username\", \"like_count\", \"retweet_count\"]\n",
    ")\n",
    "\n",
    "#tweet_df.to_csv('nivea_tweets')"
   ]
  },
  {
   "attachments": {},
   "cell_type": "markdown",
   "metadata": {},
   "source": [
    "### Add Filters to Query"
   ]
  },
  {
   "cell_type": "markdown",
   "metadata": {},
   "source": [
    "'''text = input('Enter query text to be matched (or leave it blank by pressing enter)') \n",
    "\n",
    "likes = input('Enter minimum number of likes to be matched (or leave it blank by pressing enter): ')\n",
    "\n",
    "since = input('Enter startdate in this format yyyy-mm-dd (or leave it blank by pressing enter): ') \n",
    "\n",
    "until = input('Enter enddate in this format yyyy-mm-dd (or leave it blank by pressing enter): ') \n",
    "\n",
    "count = int(input('Enter max number of tweets or enter -1 to retrieve all possible tweets: ')) \n",
    "\n",
    "retweet = input('Exclude Retweets? (y/n): ') \n",
    "\n",
    "replies = input('Exclude Replies? (y/n): ')"
   ]
  },
  {
   "cell_type": "code",
   "execution_count": 18,
   "metadata": {},
   "outputs": [],
   "source": [
    "text = \"#nivea\"\n",
    "\n",
    "likes = \"5\"\n",
    "\n",
    "since = \"2016-01-01\"\n",
    "\n",
    "until = \"2023-04-12\"\n",
    "\n",
    "count = 1000 \n",
    "\n",
    "retweet = \"n\" \n",
    "\n",
    "replies = \"n\""
   ]
  },
  {
   "cell_type": "code",
   "execution_count": 19,
   "metadata": {},
   "outputs": [],
   "source": [
    "def search(text, likes, since, until, retweet, replies): \n",
    "\n",
    "    global filename \n",
    "\n",
    "    q = text\n",
    "\n",
    "    if likes=='': \n",
    "\n",
    "        likes = 0 \n",
    "\n",
    "    q += f\" min_faves:\"+likes\n",
    "\n",
    "    if until=='': \n",
    "\n",
    "        until = datetime.datetime.strftime(datetime.date.today(), '%Y-%m-%d') \n",
    "\n",
    "    q += f\" until:{until}\" \n",
    "\n",
    "    if since=='': \n",
    "\n",
    "        since = datetime.datetime.strftime(datetime.datetime.strptime(until, '%Y-%m-%d') -  \n",
    "\n",
    "                                        datetime.timedelta(days=7), '%Y-%m-%d') \n",
    "\n",
    "    q += f\" since:{since}\" \n",
    "\n",
    "    if retweet == 'y': \n",
    "\n",
    "        q += f\" exclude:retweets\" \n",
    "\n",
    "    if replies == 'y': \n",
    "\n",
    "        q += f\" exclude:replies\" \n",
    "\n",
    "    else: \n",
    "\n",
    "        filename = f\"{since}_{until}_{text}.csv\" \n",
    "\n",
    "    print(filename) \n",
    "\n",
    "    return q"
   ]
  },
  {
   "cell_type": "code",
   "execution_count": 20,
   "metadata": {},
   "outputs": [
    {
     "name": "stdout",
     "output_type": "stream",
     "text": [
      "2016-01-01_2023-04-12_#nivea.csv\n"
     ]
    },
    {
     "data": {
      "application/vnd.jupyter.widget-view+json": {
       "model_id": "4654bae6d408416d9385fb378334c6c9",
       "version_major": 2,
       "version_minor": 0
      },
      "text/plain": [
       "  0%|          | 0/1000 [00:00<?, ?it/s]"
      ]
     },
     "metadata": {},
     "output_type": "display_data"
    },
    {
     "name": "stderr",
     "output_type": "stream",
     "text": [
      "C:\\Users\\ollin\\AppData\\Local\\Temp\\ipykernel_37644\\1308500407.py:11: DeprecatedFeatureWarning: content is deprecated, use rawContent instead\n",
      "  tweet.content,\n"
     ]
    },
    {
     "data": {
      "text/html": [
       "<div>\n",
       "<style scoped>\n",
       "    .dataframe tbody tr th:only-of-type {\n",
       "        vertical-align: middle;\n",
       "    }\n",
       "\n",
       "    .dataframe tbody tr th {\n",
       "        vertical-align: top;\n",
       "    }\n",
       "\n",
       "    .dataframe thead th {\n",
       "        text-align: right;\n",
       "    }\n",
       "</style>\n",
       "<table border=\"1\" class=\"dataframe\">\n",
       "  <thead>\n",
       "    <tr style=\"text-align: right;\">\n",
       "      <th></th>\n",
       "      <th>date</th>\n",
       "      <th>id</th>\n",
       "      <th>content</th>\n",
       "      <th>username</th>\n",
       "      <th>like_count</th>\n",
       "      <th>retweet_count</th>\n",
       "    </tr>\n",
       "  </thead>\n",
       "  <tbody>\n",
       "    <tr>\n",
       "      <th>0</th>\n",
       "      <td>2023-04-10 10:20:00+00:00</td>\n",
       "      <td>1645371043257675777</td>\n",
       "      <td>She can make a good brand ambassador for any s...</td>\n",
       "      <td>LaceTshenolo</td>\n",
       "      <td>9</td>\n",
       "      <td>4</td>\n",
       "    </tr>\n",
       "    <tr>\n",
       "      <th>1</th>\n",
       "      <td>2023-04-08 21:00:00+00:00</td>\n",
       "      <td>1644807325989974016</td>\n",
       "      <td>#HollyRobinsonPeete (@hollyrpeete) &amp;amp; #Rodn...</td>\n",
       "      <td>dailyblastlive</td>\n",
       "      <td>20</td>\n",
       "      <td>3</td>\n",
       "    </tr>\n",
       "    <tr>\n",
       "      <th>2</th>\n",
       "      <td>2023-04-08 14:08:39+00:00</td>\n",
       "      <td>1644703805802692608</td>\n",
       "      <td>NIVEA Fresh Bloom Gift Box, NIVEA Lotion and N...</td>\n",
       "      <td>onlinegear_</td>\n",
       "      <td>5</td>\n",
       "      <td>5</td>\n",
       "    </tr>\n",
       "    <tr>\n",
       "      <th>3</th>\n",
       "      <td>2023-04-07 00:00:01+00:00</td>\n",
       "      <td>1644127852789649409</td>\n",
       "      <td>#HollyRobinsonPeete (@hollyrpeete) &amp;amp; #Rodn...</td>\n",
       "      <td>dailyblastlive</td>\n",
       "      <td>12</td>\n",
       "      <td>3</td>\n",
       "    </tr>\n",
       "    <tr>\n",
       "      <th>4</th>\n",
       "      <td>2023-04-04 14:47:57+00:00</td>\n",
       "      <td>1643264144634945538</td>\n",
       "      <td>1 คลิปหลายอารมณ์ สวยทุกมุม โดยเฉพาะผิว 💗🫶🏻 \\n\\...</td>\n",
       "      <td>supportntch</td>\n",
       "      <td>19</td>\n",
       "      <td>6</td>\n",
       "    </tr>\n",
       "  </tbody>\n",
       "</table>\n",
       "</div>"
      ],
      "text/plain": [
       "                       date                   id  \\\n",
       "0 2023-04-10 10:20:00+00:00  1645371043257675777   \n",
       "1 2023-04-08 21:00:00+00:00  1644807325989974016   \n",
       "2 2023-04-08 14:08:39+00:00  1644703805802692608   \n",
       "3 2023-04-07 00:00:01+00:00  1644127852789649409   \n",
       "4 2023-04-04 14:47:57+00:00  1643264144634945538   \n",
       "\n",
       "                                             content        username  \\\n",
       "0  She can make a good brand ambassador for any s...    LaceTshenolo   \n",
       "1  #HollyRobinsonPeete (@hollyrpeete) &amp; #Rodn...  dailyblastlive   \n",
       "2  NIVEA Fresh Bloom Gift Box, NIVEA Lotion and N...     onlinegear_   \n",
       "3  #HollyRobinsonPeete (@hollyrpeete) &amp; #Rodn...  dailyblastlive   \n",
       "4  1 คลิปหลายอารมณ์ สวยทุกมุม โดยเฉพาะผิว 💗🫶🏻 \\n\\...     supportntch   \n",
       "\n",
       "   like_count  retweet_count  \n",
       "0           9              4  \n",
       "1          20              3  \n",
       "2           5              5  \n",
       "3          12              3  \n",
       "4          19              6  "
      ]
     },
     "execution_count": 20,
     "metadata": {},
     "output_type": "execute_result"
    }
   ],
   "source": [
    "q = search(text,likes,since,until,retweet,replies) \n",
    "\n",
    "scraper = sntwitter.TwitterSearchScraper(q)\n",
    "\n",
    "tweets = []\n",
    "\n",
    "for i,  tweet in tqdm(enumerate(scraper.get_items()), total = count):\n",
    "    data = [\n",
    "        tweet.date, \n",
    "        tweet.id, \n",
    "        tweet.content, \n",
    "        tweet.user.username, \n",
    "        tweet.likeCount, \n",
    "        tweet.retweetCount\n",
    "    ]\n",
    "    tweets.append(data)\n",
    "    if i > count: #number of tweets you want to scrape:\n",
    "        break\n",
    "\n",
    "tweet_df = pd.DataFrame(\n",
    "    tweets, columns = [\"date\", \"id\", \"content\", \"username\", \"like_count\", \"retweet_count\"]\n",
    ")\n",
    "\n",
    "#tweet_df.to_csv(f\"{filename}\",index=False)\n",
    "tweet_df.head(5)"
   ]
  }
 ],
 "metadata": {
  "kernelspec": {
   "display_name": "base",
   "language": "python",
   "name": "python3"
  },
  "language_info": {
   "codemirror_mode": {
    "name": "ipython",
    "version": 3
   },
   "file_extension": ".py",
   "mimetype": "text/x-python",
   "name": "python",
   "nbconvert_exporter": "python",
   "pygments_lexer": "ipython3",
   "version": "3.9.7"
  },
  "orig_nbformat": 4
 },
 "nbformat": 4,
 "nbformat_minor": 2
}
