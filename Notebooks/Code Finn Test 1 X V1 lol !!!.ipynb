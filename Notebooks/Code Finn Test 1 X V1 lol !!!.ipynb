{
 "cells": [
  {
   "cell_type": "code",
   "execution_count": null,
   "metadata": {},
   "outputs": [],
   "source": [
    "#%pip install snscrape\n",
    "#%pip install langdetect\n",
    "#%pip install nltk\n"
   ]
  },
  {
   "cell_type": "code",
   "execution_count": null,
   "metadata": {},
   "outputs": [],
   "source": [
    "\n",
    "import snscrape.modules.twitter as sntwitter\n",
    "import pandas as pd\n",
    "from langdetect import detect\n"
   ]
  },
  {
   "cell_type": "code",
   "execution_count": null,
   "metadata": {},
   "outputs": [],
   "source": [
    " # Create empty list to append tweet data into\n",
    "tweets_list = []\n",
    "\n",
    "# Define search parameters\n",
    "hashtag = 'Trump'\n",
    "tweets_number = 10\n",
    "\n",
    "# Scrape Twitter data for specific hashtag and append tweets to list\n",
    "for i,tweet in enumerate(sntwitter.TwitterHashtagScraper(hashtag).get_items()):\n",
    "    if i>tweets_number:\n",
    "        break\n",
    "    tweets_list.append([tweet.date, tweet.id, tweet.content, detect(tweet.content), tweet.user.username])\n",
    "    \n",
    "    \n",
    "# Create dataframe from tweets list\n",
    "tweets_df = pd.DataFrame(tweets_list, columns=['Datetime', 'Tweet Id', 'Text', 'Language', 'Username'])\n",
    "\n",
    "tweets_df \n"
   ]
  },
  {
   "cell_type": "code",
   "execution_count": null,
   "metadata": {},
   "outputs": [],
   "source": [
    "# Create empty list to append tweet data into\n",
    "tweets_list = []\n",
    "\n",
    "# Define search parameters\n",
    "hashtag = 'Trump'\n",
    "tweets_number = 10\n",
    "\n",
    "# Scrape Twitter data for specific hashtag and append tweets to list\n",
    "for i,tweet in enumerate(sntwitter.TwitterHashtagScraper(hashtag).get_items()):\n",
    "    if i>tweets_number:\n",
    "        break\n",
    "    if detect(tweet.content) == 'en':\n",
    "        tweets_list.append([tweet.date, tweet.id, tweet.content, tweet.user.username])\n",
    "    \n",
    "    \n",
    "# Create dataframe from tweets list\n",
    "tweets_df = pd.DataFrame(tweets_list, columns=['Datetime', 'Tweet Id', 'Text', 'Username'])\n",
    "tweets_df\n"
   ]
  },
  {
   "cell_type": "code",
   "execution_count": null,
   "metadata": {},
   "outputs": [],
   "source": [
    "from nltk.tokenize import RegexpTokenizer\n",
    "tokenizer = RegexpTokenizer(r'\\w+|\\$[\\d\\.]+|\\S+')\n",
    "tweets_df['Text_Tokenized'] = tweets_df['Text'].apply(lambda x: tokenizer.tokenize(x))\n",
    "tweets_df"
   ]
  }
 ],
 "metadata": {
  "language_info": {
   "name": "python"
  },
  "orig_nbformat": 4
 },
 "nbformat": 4,
 "nbformat_minor": 2
}
