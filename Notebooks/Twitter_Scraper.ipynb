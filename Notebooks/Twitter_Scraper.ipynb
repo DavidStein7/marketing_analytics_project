{
 "cells": [
  {
   "cell_type": "code",
   "execution_count": 1,
   "metadata": {},
   "outputs": [],
   "source": [
    "import pandas as pd\n",
    "from tqdm.notebook import tqdm\n",
    "import snscrape\n",
    "import snscrape.modules.twitter as sntwitter\n",
    "import datetime"
   ]
  },
  {
   "cell_type": "code",
   "execution_count": 2,
   "metadata": {},
   "outputs": [
    {
     "name": "stdout",
     "output_type": "stream",
     "text": [
      "Name: snscrape\n",
      "Version: 0.7.0.20230622\n",
      "Summary: A social networking service scraper\n",
      "Home-page: \n",
      "Author: JustAnotherArchivist\n",
      "Author-email: \n",
      "License: \n",
      "Location: c:\\users\\del-f\\appdata\\local\\programs\\python\\python39\\lib\\site-packages\n",
      "Requires: lxml, beautifulsoup4, filelock, requests\n",
      "Required-by: \n",
      "Note: you may need to restart the kernel to use updated packages.\n"
     ]
    }
   ],
   "source": [
    "pip show snscrape"
   ]
  },
  {
   "cell_type": "code",
   "execution_count": 78,
   "metadata": {},
   "outputs": [
    {
     "name": "stdout",
     "output_type": "stream",
     "text": [
      "2022-01-01 00:00:00 2022-01-31 00:00:00\n"
     ]
    },
    {
     "data": {
      "application/vnd.jupyter.widget-view+json": {
       "model_id": "676daf89e5374917ae1196136d7f7c6b",
       "version_major": 2,
       "version_minor": 0
      },
      "text/plain": [
       "  0%|          | 0/1 [00:00<?, ?it/s]"
      ]
     },
     "metadata": {},
     "output_type": "display_data"
    },
    {
     "name": "stdout",
     "output_type": "stream",
     "text": [
      "2022-02-01 00:00:00 2022-02-28 00:00:00\n"
     ]
    },
    {
     "name": "stderr",
     "output_type": "stream",
     "text": [
      "C:\\Users\\del-f\\AppData\\Local\\Temp\\ipykernel_16588\\2505332535.py:42: DeprecatedFeatureWarning: content is deprecated, use rawContent instead\n",
      "  tweet.content,\n"
     ]
    },
    {
     "data": {
      "application/vnd.jupyter.widget-view+json": {
       "model_id": "36d6a51f122e46a0a731ba30a85a5b40",
       "version_major": 2,
       "version_minor": 0
      },
      "text/plain": [
       "  0%|          | 0/1 [00:00<?, ?it/s]"
      ]
     },
     "metadata": {},
     "output_type": "display_data"
    },
    {
     "name": "stdout",
     "output_type": "stream",
     "text": [
      "2022-03-01 00:00:00 2022-03-31 00:00:00\n"
     ]
    },
    {
     "data": {
      "application/vnd.jupyter.widget-view+json": {
       "model_id": "812294f92bb54abdbf6a75d0716d8762",
       "version_major": 2,
       "version_minor": 0
      },
      "text/plain": [
       "  0%|          | 0/1 [00:00<?, ?it/s]"
      ]
     },
     "metadata": {},
     "output_type": "display_data"
    },
    {
     "name": "stdout",
     "output_type": "stream",
     "text": [
      "2022-04-01 00:00:00 2022-04-30 00:00:00\n"
     ]
    },
    {
     "data": {
      "application/vnd.jupyter.widget-view+json": {
       "model_id": "4a75563b6f50461b889a74a935b07daa",
       "version_major": 2,
       "version_minor": 0
      },
      "text/plain": [
       "  0%|          | 0/1 [00:00<?, ?it/s]"
      ]
     },
     "metadata": {},
     "output_type": "display_data"
    },
    {
     "name": "stdout",
     "output_type": "stream",
     "text": [
      "2022-05-01 00:00:00 2022-05-31 00:00:00\n"
     ]
    },
    {
     "data": {
      "application/vnd.jupyter.widget-view+json": {
       "model_id": "8b7538cf539343ec8e557ab0ec8d15d0",
       "version_major": 2,
       "version_minor": 0
      },
      "text/plain": [
       "  0%|          | 0/1 [00:00<?, ?it/s]"
      ]
     },
     "metadata": {},
     "output_type": "display_data"
    },
    {
     "name": "stdout",
     "output_type": "stream",
     "text": [
      "2022-06-01 00:00:00 2022-06-30 00:00:00\n"
     ]
    },
    {
     "data": {
      "application/vnd.jupyter.widget-view+json": {
       "model_id": "565a68d22bec48b491cb5219b428d3af",
       "version_major": 2,
       "version_minor": 0
      },
      "text/plain": [
       "  0%|          | 0/1 [00:00<?, ?it/s]"
      ]
     },
     "metadata": {},
     "output_type": "display_data"
    },
    {
     "name": "stdout",
     "output_type": "stream",
     "text": [
      "2022-07-01 00:00:00 2022-07-31 00:00:00\n"
     ]
    },
    {
     "data": {
      "application/vnd.jupyter.widget-view+json": {
       "model_id": "e8add5cfd68847198eadb7c8628c7d17",
       "version_major": 2,
       "version_minor": 0
      },
      "text/plain": [
       "  0%|          | 0/1 [00:00<?, ?it/s]"
      ]
     },
     "metadata": {},
     "output_type": "display_data"
    },
    {
     "name": "stdout",
     "output_type": "stream",
     "text": [
      "2022-08-01 00:00:00 2022-08-31 00:00:00\n"
     ]
    },
    {
     "data": {
      "application/vnd.jupyter.widget-view+json": {
       "model_id": "824a156b58934def88a6fee3b71a2845",
       "version_major": 2,
       "version_minor": 0
      },
      "text/plain": [
       "  0%|          | 0/1 [00:00<?, ?it/s]"
      ]
     },
     "metadata": {},
     "output_type": "display_data"
    },
    {
     "name": "stdout",
     "output_type": "stream",
     "text": [
      "2022-09-01 00:00:00 2022-09-30 00:00:00\n"
     ]
    },
    {
     "data": {
      "application/vnd.jupyter.widget-view+json": {
       "model_id": "2d4223d93dbf4d1b809b3d84653698c0",
       "version_major": 2,
       "version_minor": 0
      },
      "text/plain": [
       "  0%|          | 0/1 [00:00<?, ?it/s]"
      ]
     },
     "metadata": {},
     "output_type": "display_data"
    },
    {
     "name": "stdout",
     "output_type": "stream",
     "text": [
      "2022-10-01 00:00:00 2022-10-31 00:00:00\n"
     ]
    },
    {
     "data": {
      "application/vnd.jupyter.widget-view+json": {
       "model_id": "3d5092f95c7a4b4b9bb839eaedce6a91",
       "version_major": 2,
       "version_minor": 0
      },
      "text/plain": [
       "  0%|          | 0/1 [00:00<?, ?it/s]"
      ]
     },
     "metadata": {},
     "output_type": "display_data"
    },
    {
     "name": "stdout",
     "output_type": "stream",
     "text": [
      "2022-11-01 00:00:00 2022-11-30 00:00:00\n"
     ]
    },
    {
     "data": {
      "application/vnd.jupyter.widget-view+json": {
       "model_id": "44a32b8ca0e94544906612072a022ef8",
       "version_major": 2,
       "version_minor": 0
      },
      "text/plain": [
       "  0%|          | 0/1 [00:00<?, ?it/s]"
      ]
     },
     "metadata": {},
     "output_type": "display_data"
    },
    {
     "name": "stdout",
     "output_type": "stream",
     "text": [
      "2022-12-01 00:00:00 2022-12-31 00:00:00\n"
     ]
    },
    {
     "data": {
      "application/vnd.jupyter.widget-view+json": {
       "model_id": "094e6afc6d094c05b6a3acfa8d7977b4",
       "version_major": 2,
       "version_minor": 0
      },
      "text/plain": [
       "  0%|          | 0/1 [00:00<?, ?it/s]"
      ]
     },
     "metadata": {},
     "output_type": "display_data"
    },
    {
     "name": "stdout",
     "output_type": "stream",
     "text": [
      "2023-01-01 00:00:00 2023-01-31 00:00:00\n"
     ]
    },
    {
     "data": {
      "application/vnd.jupyter.widget-view+json": {
       "model_id": "f373b412398d430ab9333d185242332c",
       "version_major": 2,
       "version_minor": 0
      },
      "text/plain": [
       "  0%|          | 0/1 [00:00<?, ?it/s]"
      ]
     },
     "metadata": {},
     "output_type": "display_data"
    },
    {
     "name": "stdout",
     "output_type": "stream",
     "text": [
      "2023-02-01 00:00:00 2023-02-28 00:00:00\n"
     ]
    },
    {
     "data": {
      "application/vnd.jupyter.widget-view+json": {
       "model_id": "3f020be7129844419267a8bc8f08fd63",
       "version_major": 2,
       "version_minor": 0
      },
      "text/plain": [
       "  0%|          | 0/1 [00:00<?, ?it/s]"
      ]
     },
     "metadata": {},
     "output_type": "display_data"
    },
    {
     "name": "stdout",
     "output_type": "stream",
     "text": [
      "2023-03-01 00:00:00 2023-03-31 00:00:00\n"
     ]
    },
    {
     "data": {
      "application/vnd.jupyter.widget-view+json": {
       "model_id": "8402c72f59f04ad4aba4e028fabf41b5",
       "version_major": 2,
       "version_minor": 0
      },
      "text/plain": [
       "  0%|          | 0/1 [00:00<?, ?it/s]"
      ]
     },
     "metadata": {},
     "output_type": "display_data"
    },
    {
     "name": "stdout",
     "output_type": "stream",
     "text": [
      "2023-04-01 00:00:00 2023-04-30 00:00:00\n"
     ]
    },
    {
     "data": {
      "application/vnd.jupyter.widget-view+json": {
       "model_id": "b2aec3a928d14862ab3c748e8a5117b5",
       "version_major": 2,
       "version_minor": 0
      },
      "text/plain": [
       "  0%|          | 0/1 [00:00<?, ?it/s]"
      ]
     },
     "metadata": {},
     "output_type": "display_data"
    },
    {
     "name": "stdout",
     "output_type": "stream",
     "text": [
      "2023-05-01 00:00:00 2023-05-31 00:00:00\n"
     ]
    },
    {
     "data": {
      "application/vnd.jupyter.widget-view+json": {
       "model_id": "7f8bce5995d64c828fae711184d516d8",
       "version_major": 2,
       "version_minor": 0
      },
      "text/plain": [
       "  0%|          | 0/1 [00:00<?, ?it/s]"
      ]
     },
     "metadata": {},
     "output_type": "display_data"
    },
    {
     "name": "stdout",
     "output_type": "stream",
     "text": [
      "2023-06-01 00:00:00 2023-06-30 00:00:00\n"
     ]
    },
    {
     "data": {
      "text/html": [
       "<div>\n",
       "<style scoped>\n",
       "    .dataframe tbody tr th:only-of-type {\n",
       "        vertical-align: middle;\n",
       "    }\n",
       "\n",
       "    .dataframe tbody tr th {\n",
       "        vertical-align: top;\n",
       "    }\n",
       "\n",
       "    .dataframe thead th {\n",
       "        text-align: right;\n",
       "    }\n",
       "</style>\n",
       "<table border=\"1\" class=\"dataframe\">\n",
       "  <thead>\n",
       "    <tr style=\"text-align: right;\">\n",
       "      <th></th>\n",
       "      <th>date</th>\n",
       "      <th>id</th>\n",
       "      <th>content</th>\n",
       "      <th>username</th>\n",
       "      <th>like_count</th>\n",
       "      <th>retweet_count</th>\n",
       "    </tr>\n",
       "  </thead>\n",
       "  <tbody>\n",
       "    <tr>\n",
       "      <th>0</th>\n",
       "      <td>2022-01-30 23:55:27+00:00</td>\n",
       "      <td>1487937536374841344</td>\n",
       "      <td>I just drank a #Starbucks double espresso from...</td>\n",
       "      <td>RealityTVBliss</td>\n",
       "      <td>8</td>\n",
       "      <td>0</td>\n",
       "    </tr>\n",
       "    <tr>\n",
       "      <th>1</th>\n",
       "      <td>2022-01-30 23:55:13+00:00</td>\n",
       "      <td>1487937476018651139</td>\n",
       "      <td>Um, #Starbucks: Why are you bothering to send ...</td>\n",
       "      <td>kevsource</td>\n",
       "      <td>1</td>\n",
       "      <td>0</td>\n",
       "    </tr>\n",
       "    <tr>\n",
       "      <th>2</th>\n",
       "      <td>2022-02-27 23:46:45+00:00</td>\n",
       "      <td>1498082206195101698</td>\n",
       "      <td>Back home and getting @Starbucks to kick start...</td>\n",
       "      <td>grimrockandroll</td>\n",
       "      <td>4</td>\n",
       "      <td>0</td>\n",
       "    </tr>\n",
       "    <tr>\n",
       "      <th>3</th>\n",
       "      <td>2022-02-27 23:29:02+00:00</td>\n",
       "      <td>1498077747683282951</td>\n",
       "      <td>So good I had to share! Check out all the item...</td>\n",
       "      <td>Ashma_313</td>\n",
       "      <td>0</td>\n",
       "      <td>0</td>\n",
       "    </tr>\n",
       "    <tr>\n",
       "      <th>4</th>\n",
       "      <td>2022-03-30 23:56:29+00:00</td>\n",
       "      <td>1509318677832912898</td>\n",
       "      <td>I wish this was real. 😆 #harrystyles #AIW #har...</td>\n",
       "      <td>SwayShay</td>\n",
       "      <td>0</td>\n",
       "      <td>0</td>\n",
       "    </tr>\n",
       "    <tr>\n",
       "      <th>5</th>\n",
       "      <td>2022-03-30 23:29:17+00:00</td>\n",
       "      <td>1509311831856218113</td>\n",
       "      <td>So good I had to share! Check out all the item...</td>\n",
       "      <td>Jamies_attic</td>\n",
       "      <td>1</td>\n",
       "      <td>0</td>\n",
       "    </tr>\n",
       "    <tr>\n",
       "      <th>6</th>\n",
       "      <td>2022-04-29 23:47:51+00:00</td>\n",
       "      <td>1520188142351175681</td>\n",
       "      <td>Better Starbucks 👁️🫦👁️\\n#Starbucks #doraemon h...</td>\n",
       "      <td>ih_ivnn</td>\n",
       "      <td>0</td>\n",
       "      <td>1</td>\n",
       "    </tr>\n",
       "    <tr>\n",
       "      <th>7</th>\n",
       "      <td>2022-04-29 23:47:46+00:00</td>\n",
       "      <td>1520188122268590081</td>\n",
       "      <td>They will never see this. Hope the family behi...</td>\n",
       "      <td>Teknifye</td>\n",
       "      <td>5</td>\n",
       "      <td>0</td>\n",
       "    </tr>\n",
       "    <tr>\n",
       "      <th>8</th>\n",
       "      <td>2022-05-30 23:47:36+00:00</td>\n",
       "      <td>1531422101944557575</td>\n",
       "      <td>#union Starbucks workers added digital duties ...</td>\n",
       "      <td>wendyNAIFarbman</td>\n",
       "      <td>0</td>\n",
       "      <td>0</td>\n",
       "    </tr>\n",
       "    <tr>\n",
       "      <th>9</th>\n",
       "      <td>2022-05-30 23:31:00+00:00</td>\n",
       "      <td>1531417924597993473</td>\n",
       "      <td>Workers at the Douglas St @Starbucks Canada lo...</td>\n",
       "      <td>usw1944</td>\n",
       "      <td>6</td>\n",
       "      <td>0</td>\n",
       "    </tr>\n",
       "    <tr>\n",
       "      <th>10</th>\n",
       "      <td>2022-06-29 23:53:16+00:00</td>\n",
       "      <td>1542295164198215680</td>\n",
       "      <td>Looking for #bookish deals? This #Fantasy &amp;amp...</td>\n",
       "      <td>sstoney9</td>\n",
       "      <td>0</td>\n",
       "      <td>0</td>\n",
       "    </tr>\n",
       "    <tr>\n",
       "      <th>11</th>\n",
       "      <td>2022-06-29 23:35:44+00:00</td>\n",
       "      <td>1542290752906174465</td>\n",
       "      <td>Looking for #bookish deals? This #Fantasy &amp;amp...</td>\n",
       "      <td>oneblkcoffee</td>\n",
       "      <td>0</td>\n",
       "      <td>0</td>\n",
       "    </tr>\n",
       "    <tr>\n",
       "      <th>12</th>\n",
       "      <td>2022-07-30 23:30:37+00:00</td>\n",
       "      <td>1553523487121166336</td>\n",
       "      <td>So good I had to share! Check out all the item...</td>\n",
       "      <td>Nathansmom0211</td>\n",
       "      <td>0</td>\n",
       "      <td>0</td>\n",
       "    </tr>\n",
       "    <tr>\n",
       "      <th>13</th>\n",
       "      <td>2022-07-30 23:30:09+00:00</td>\n",
       "      <td>1553523370544603136</td>\n",
       "      <td>So good I had to share! Check out all the item...</td>\n",
       "      <td>sarahgrace017</td>\n",
       "      <td>0</td>\n",
       "      <td>0</td>\n",
       "    </tr>\n",
       "    <tr>\n",
       "      <th>14</th>\n",
       "      <td>2022-08-30 23:48:35+00:00</td>\n",
       "      <td>1564762036214661121</td>\n",
       "      <td>#TedCruz is never going to be able to get a cu...</td>\n",
       "      <td>dramahkween</td>\n",
       "      <td>6</td>\n",
       "      <td>1</td>\n",
       "    </tr>\n",
       "    <tr>\n",
       "      <th>15</th>\n",
       "      <td>2022-08-30 23:47:48+00:00</td>\n",
       "      <td>1564761837136097282</td>\n",
       "      <td>#Starbucks I hope your baristas remember Ted C...</td>\n",
       "      <td>kbcharter</td>\n",
       "      <td>1</td>\n",
       "      <td>0</td>\n",
       "    </tr>\n",
       "    <tr>\n",
       "      <th>16</th>\n",
       "      <td>2022-09-29 23:54:50+00:00</td>\n",
       "      <td>1575635242311946240</td>\n",
       "      <td>#Starbucks to open 2,000 U.S. stores by 2025; ...</td>\n",
       "      <td>TheCommercialRE</td>\n",
       "      <td>0</td>\n",
       "      <td>0</td>\n",
       "    </tr>\n",
       "    <tr>\n",
       "      <th>17</th>\n",
       "      <td>2022-09-29 23:36:40+00:00</td>\n",
       "      <td>1575630672957317120</td>\n",
       "      <td>İt is the time for me “Dark Roast Coffee With ...</td>\n",
       "      <td>Farukb44</td>\n",
       "      <td>1</td>\n",
       "      <td>1</td>\n",
       "    </tr>\n",
       "    <tr>\n",
       "      <th>18</th>\n",
       "      <td>2022-10-30 23:49:50+00:00</td>\n",
       "      <td>1586868008005562368</td>\n",
       "      <td>@Timcast Have this kid call me when he’s worke...</td>\n",
       "      <td>uptown_queeny</td>\n",
       "      <td>0</td>\n",
       "      <td>0</td>\n",
       "    </tr>\n",
       "    <tr>\n",
       "      <th>19</th>\n",
       "      <td>2022-10-30 23:31:12+00:00</td>\n",
       "      <td>1586863319226646528</td>\n",
       "      <td>So good I had to share! Check out all the item...</td>\n",
       "      <td>BECCA92756021</td>\n",
       "      <td>0</td>\n",
       "      <td>0</td>\n",
       "    </tr>\n",
       "  </tbody>\n",
       "</table>\n",
       "</div>"
      ],
      "text/plain": [
       "                        date                   id  \\\n",
       "0  2022-01-30 23:55:27+00:00  1487937536374841344   \n",
       "1  2022-01-30 23:55:13+00:00  1487937476018651139   \n",
       "2  2022-02-27 23:46:45+00:00  1498082206195101698   \n",
       "3  2022-02-27 23:29:02+00:00  1498077747683282951   \n",
       "4  2022-03-30 23:56:29+00:00  1509318677832912898   \n",
       "5  2022-03-30 23:29:17+00:00  1509311831856218113   \n",
       "6  2022-04-29 23:47:51+00:00  1520188142351175681   \n",
       "7  2022-04-29 23:47:46+00:00  1520188122268590081   \n",
       "8  2022-05-30 23:47:36+00:00  1531422101944557575   \n",
       "9  2022-05-30 23:31:00+00:00  1531417924597993473   \n",
       "10 2022-06-29 23:53:16+00:00  1542295164198215680   \n",
       "11 2022-06-29 23:35:44+00:00  1542290752906174465   \n",
       "12 2022-07-30 23:30:37+00:00  1553523487121166336   \n",
       "13 2022-07-30 23:30:09+00:00  1553523370544603136   \n",
       "14 2022-08-30 23:48:35+00:00  1564762036214661121   \n",
       "15 2022-08-30 23:47:48+00:00  1564761837136097282   \n",
       "16 2022-09-29 23:54:50+00:00  1575635242311946240   \n",
       "17 2022-09-29 23:36:40+00:00  1575630672957317120   \n",
       "18 2022-10-30 23:49:50+00:00  1586868008005562368   \n",
       "19 2022-10-30 23:31:12+00:00  1586863319226646528   \n",
       "\n",
       "                                              content         username  \\\n",
       "0   I just drank a #Starbucks double espresso from...   RealityTVBliss   \n",
       "1   Um, #Starbucks: Why are you bothering to send ...        kevsource   \n",
       "2   Back home and getting @Starbucks to kick start...  grimrockandroll   \n",
       "3   So good I had to share! Check out all the item...        Ashma_313   \n",
       "4   I wish this was real. 😆 #harrystyles #AIW #har...         SwayShay   \n",
       "5   So good I had to share! Check out all the item...     Jamies_attic   \n",
       "6   Better Starbucks 👁️🫦👁️\\n#Starbucks #doraemon h...          ih_ivnn   \n",
       "7   They will never see this. Hope the family behi...         Teknifye   \n",
       "8   #union Starbucks workers added digital duties ...  wendyNAIFarbman   \n",
       "9   Workers at the Douglas St @Starbucks Canada lo...          usw1944   \n",
       "10  Looking for #bookish deals? This #Fantasy &amp...         sstoney9   \n",
       "11  Looking for #bookish deals? This #Fantasy &amp...     oneblkcoffee   \n",
       "12  So good I had to share! Check out all the item...   Nathansmom0211   \n",
       "13  So good I had to share! Check out all the item...    sarahgrace017   \n",
       "14  #TedCruz is never going to be able to get a cu...      dramahkween   \n",
       "15  #Starbucks I hope your baristas remember Ted C...        kbcharter   \n",
       "16  #Starbucks to open 2,000 U.S. stores by 2025; ...  TheCommercialRE   \n",
       "17  İt is the time for me “Dark Roast Coffee With ...         Farukb44   \n",
       "18  @Timcast Have this kid call me when he’s worke...    uptown_queeny   \n",
       "19  So good I had to share! Check out all the item...    BECCA92756021   \n",
       "\n",
       "    like_count  retweet_count  \n",
       "0            8              0  \n",
       "1            1              0  \n",
       "2            4              0  \n",
       "3            0              0  \n",
       "4            0              0  \n",
       "5            1              0  \n",
       "6            0              1  \n",
       "7            5              0  \n",
       "8            0              0  \n",
       "9            6              0  \n",
       "10           0              0  \n",
       "11           0              0  \n",
       "12           0              0  \n",
       "13           0              0  \n",
       "14           6              1  \n",
       "15           1              0  \n",
       "16           0              0  \n",
       "17           1              1  \n",
       "18           0              0  \n",
       "19           0              0  "
      ]
     },
     "execution_count": 78,
     "metadata": {},
     "output_type": "execute_result"
    }
   ],
   "source": [
    "#define search parameters\n",
    "text = \"#starbucks\"\n",
    "year_from = 2022\n",
    "year_until = 2024\n",
    "count = 1\n",
    "\n",
    "def search(text, since, until): \n",
    "    q = text\n",
    "    q += f\" since:{since}\" \n",
    "    q += f\" until:{until}\" \n",
    "    return q\n",
    "\n",
    "tweets = []\n",
    "\n",
    "# Durch die Jahre iterieren\n",
    "for year in range(year_from, year_until):\n",
    "    # Durch die Monate iterieren\n",
    "    for month in range(1, 13):\n",
    "\n",
    "        # Jeweiligen Zeitraum festlegen\n",
    "        since = pd.to_datetime(f\"{year}-{month:02d}-01\")\n",
    "        until = pd.to_datetime(f\"{year}-{month:02d}-01\") + pd.offsets.MonthEnd()\n",
    "        \n",
    "        print(since, until)\n",
    "\n",
    "        # Aufhören bei heutigem Datum\n",
    "        if until > pd.Timestamp.today():\n",
    "            break\n",
    "        \n",
    "        since = since.strftime(\"%Y-%m-%d\")\n",
    "        until = until.strftime(\"%Y-%m-%d\")\n",
    "\n",
    "        q = search(text,since,until)\n",
    "        scraper = sntwitter.TwitterSearchScraper(q)\n",
    "\n",
    "        b = 0\n",
    "\n",
    "        for i, tweet in tqdm(enumerate(scraper.get_items()), total = count):\n",
    "            data = [\n",
    "                tweet.date, \n",
    "                tweet.id, \n",
    "                tweet.content, \n",
    "                tweet.user.username, \n",
    "                tweet.likeCount, \n",
    "                tweet.retweetCount\n",
    "            ]\n",
    "\n",
    "            if b > count: #number of tweets you want to scrape:\n",
    "                break\n",
    "\n",
    "            if tweet.lang == \"en\": \n",
    "                tweets.append(data)\n",
    "                b += 1\n",
    "\n",
    "tweet_df = pd.DataFrame(\n",
    "    tweets, columns = [\"date\", \"id\", \"content\", \"username\", \"like_count\", \"retweet_count\"]\n",
    ")\n",
    "#tweet_df.to_csv(f\"{filename}\",index=False)\n",
    "tweet_df.head(20)"
   ]
  }
 ],
 "metadata": {
  "kernelspec": {
   "display_name": "Python 3",
   "language": "python",
   "name": "python3"
  },
  "language_info": {
   "codemirror_mode": {
    "name": "ipython",
    "version": 3
   },
   "file_extension": ".py",
   "mimetype": "text/x-python",
   "name": "python",
   "nbconvert_exporter": "python",
   "pygments_lexer": "ipython3",
   "version": "3.9.7"
  },
  "orig_nbformat": 4
 },
 "nbformat": 4,
 "nbformat_minor": 2
}
